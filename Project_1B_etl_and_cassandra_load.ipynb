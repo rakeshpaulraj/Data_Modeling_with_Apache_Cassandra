{
 "cells": [
  {
   "cell_type": "markdown",
   "metadata": {},
   "source": [
    "# Part I. ETL Pipeline:\n",
    "### Pre-Process the Source CSV files and create a consolidated CSV file for loading Apache Cassandra tables.\n",
    "\n",
    "### Source/Target:\n",
    "    * Source(s) : Event files dataset (of CSV format)\n",
    "    * Target(s) : Consolidated CSV file named as `event_datafile_new.csv`"
   ]
  },
  {
   "cell_type": "markdown",
   "metadata": {},
   "source": [
    "#### Import Python packages "
   ]
  },
  {
   "cell_type": "code",
   "execution_count": 32,
   "metadata": {},
   "outputs": [],
   "source": [
    "# Import Python packages \n",
    "import pandas as pd\n",
    "import cassandra\n",
    "import re\n",
    "import os\n",
    "import glob\n",
    "import numpy as np\n",
    "import json\n",
    "import csv"
   ]
  },
  {
   "cell_type": "markdown",
   "metadata": {},
   "source": [
    "#### Creating list of filepaths to process original event csv data files"
   ]
  },
  {
   "cell_type": "code",
   "execution_count": 33,
   "metadata": {},
   "outputs": [
    {
     "name": "stdout",
     "output_type": "stream",
     "text": [
      "/home/workspace\n"
     ]
    }
   ],
   "source": [
    "# checking your current working directory\n",
    "print(os.getcwd())\n",
    "\n",
    "# Get your current folder and subfolder event data\n",
    "filepath = os.getcwd() + '/event_data'\n",
    "\n",
    "# Create a for loop to create a list of files and collect each filepath\n",
    "for root, dirs, files in os.walk(filepath):\n",
    "    # Exclude the .ipynb_checkpoints directory if running thru Jupyter notebook\n",
    "    dirs[:] = [d for d in dirs if d not in ['.ipynb_checkpoints']]\n",
    "    \n",
    "# join the file path and roots with the subdirectories using glob\n",
    "    file_path_list = glob.glob(os.path.join(root,'*'))"
   ]
  },
  {
   "cell_type": "markdown",
   "metadata": {},
   "source": [
    "#### Processing the files to create the data file csv that will be used for Apache Casssandra tables"
   ]
  },
  {
   "cell_type": "code",
   "execution_count": 34,
   "metadata": {},
   "outputs": [],
   "source": [
    "# initiating an empty list of rows that will be generated from each file\n",
    "full_data_rows_list = [] \n",
    "    \n",
    "# for every filepath in the file path list \n",
    "for f in file_path_list:\n",
    "\n",
    "# reading csv file \n",
    "    with open(f, 'r', encoding = 'utf8', newline='') as csvfile: \n",
    "        # creating a csv reader object \n",
    "        csvreader = csv.reader(csvfile) \n",
    "        next(csvreader)\n",
    "        \n",
    " # extracting each data row one by one and append it        \n",
    "        for line in csvreader:\n",
    "            #print(line)\n",
    "            full_data_rows_list.append(line) \n",
    "            \n",
    "# creating a smaller event data csv file called event_datafile_full csv that will be used to insert data into the \\\n",
    "# Apache Cassandra tables\n",
    "csv.register_dialect('myDialect', quoting=csv.QUOTE_ALL, skipinitialspace=True)\n",
    "\n",
    "with open('event_datafile_new.csv', 'w', encoding = 'utf8', newline='') as f:\n",
    "    writer = csv.writer(f, dialect='myDialect')\n",
    "    writer.writerow(['artist','firstName','gender','itemInSession','lastName','length',\\\n",
    "                'level','location','sessionId','song','userId'])\n",
    "    for row in full_data_rows_list:\n",
    "        if (row[0] == ''):\n",
    "            continue\n",
    "        writer.writerow((row[0], row[2], row[3], row[4], row[5], row[6], row[7], row[8], row[12], row[13], row[16]))\n"
   ]
  },
  {
   "cell_type": "code",
   "execution_count": 35,
   "metadata": {},
   "outputs": [
    {
     "name": "stdout",
     "output_type": "stream",
     "text": [
      "Number of records in consolidated csv file = 6821\n"
     ]
    }
   ],
   "source": [
    "# check the number of rows in your csv file\n",
    "with open('event_datafile_new.csv', 'r', encoding = 'utf8') as f:\n",
    "    print(\"Number of records in consolidated csv file = \" + str(sum(1 for line in f)))"
   ]
  },
  {
   "cell_type": "markdown",
   "metadata": {},
   "source": [
    "# Part II. Creation, Modeling and Loading of Apache Cassandra tables. \n",
    "### Create 3 new Apache Cassandra tables to optimize the 3 user queries as follows:\n",
    "    * Get the artist, song title and song's length in the music app history that was heard during a given session_id and item_in_session. (Eg: sessionId = 338, and itemInSession  = 4)\n",
    "    \n",
    "    * Get the artist, song (sorted by itemInSession) and user (first and last name) for a given user_id and session_id (For Eg: user_id = 10, session_id = 182) \n",
    "\n",
    "    * Get the user name (first and last) from the music app history who listened to a given song (For Eg: 'All Hands Against His Own') \n",
    "\n",
    "### Source/Target:\n",
    "    * Source(s) : Consolidated CSV file named as `event_datafile_new.csv`\n",
    "    * Target(s) : Apache Cassandra tables modelled for each user requirements \n",
    "\n",
    "#### The <font color=red>event_datafile_new.csv</font> created in the previous step contains the following columns: \n",
    "- artist \n",
    "- firstName of user\n",
    "- gender of user\n",
    "- item number in session\n",
    "- last name of user\n",
    "- length of the song\n",
    "- level (paid or free song)\n",
    "- location of the user\n",
    "- sessionId\n",
    "- song title\n",
    "- userId"
   ]
  },
  {
   "cell_type": "markdown",
   "metadata": {},
   "source": [
    "#### Creating a Apache Cassandra Cluster"
   ]
  },
  {
   "cell_type": "code",
   "execution_count": 36,
   "metadata": {},
   "outputs": [],
   "source": [
    "# Connect to a Cassandra instance\n",
    "\n",
    "from cassandra.cluster import Cluster\n",
    "try:\n",
    "    cluster = Cluster(['127.0.0.1'])\n",
    "\n",
    "    # Create a session for the connected Cassandra instance\n",
    "    session = cluster.connect()\n",
    "    \n",
    "except Exception as e:\n",
    "    print(e)"
   ]
  },
  {
   "cell_type": "markdown",
   "metadata": {},
   "source": [
    "#### Create Keyspace"
   ]
  },
  {
   "cell_type": "code",
   "execution_count": 37,
   "metadata": {},
   "outputs": [],
   "source": [
    "# Create Keyspace \n",
    "try:\n",
    "    session.execute(\"\"\"\n",
    "    CREATE KEYSPACE IF NOT EXISTS sparkify \n",
    "    WITH REPLICATION = \n",
    "    { 'class' : 'SimpleStrategy', 'replication_factor' : 1 }\"\"\"\n",
    ")\n",
    "\n",
    "except Exception as e:\n",
    "    print(e)"
   ]
  },
  {
   "cell_type": "markdown",
   "metadata": {},
   "source": [
    "#### Set Keyspace"
   ]
  },
  {
   "cell_type": "code",
   "execution_count": 38,
   "metadata": {},
   "outputs": [],
   "source": [
    "# Set KEYSPACE to the sparkify keyspace which is created in previous step\n",
    "try:\n",
    "    session.set_keyspace('sparkify')\n",
    "except Exception as e:\n",
    "    print(e)"
   ]
  },
  {
   "cell_type": "markdown",
   "metadata": {},
   "source": [
    "## Requirement #1:\n",
    "\n",
    "#### Model and Create the following table to get the artist, song title and song's length in the music app history that was heard during a given session_id and item_in_session. (Eg: sessionId = 338, and itemInSession  = 4)\n",
    "\n",
    "To optimize the performance of above query, the below Cassandra table is created:\n",
    "\n",
    "Table Name : `music_app_history_session_item`\n",
    "\n",
    "Columns    : `session_id, item_in_session, artist, song, length`"
   ]
  },
  {
   "cell_type": "markdown",
   "metadata": {},
   "source": [
    "#### Drop table `music_app_history_session_item` if already exists"
   ]
  },
  {
   "cell_type": "code",
   "execution_count": 39,
   "metadata": {},
   "outputs": [],
   "source": [
    "query = \"DROP TABLE IF EXISTS music_app_history_session_item\"\n",
    "try:\n",
    "    session.execute(query)\n",
    "except Exception as e:\n",
    "    print(e)"
   ]
  },
  {
   "cell_type": "markdown",
   "metadata": {},
   "source": [
    "#### Create table `music_app_history_session_item` based on the Requirement #1 mentioned above."
   ]
  },
  {
   "cell_type": "code",
   "execution_count": 40,
   "metadata": {},
   "outputs": [],
   "source": [
    "## Populate CREATE TABLE statment into query variable and execute it.\n",
    "query = \"CREATE TABLE IF NOT EXISTS music_app_history_session_item\"\n",
    "query = query + \"(session_id int, item_in_session int, artist text, song text, length float, primary key(session_id, item_in_session))\"  \n",
    "try:\n",
    "    session.execute(query)\n",
    "except Exception as e:\n",
    "    print(e)"
   ]
  },
  {
   "cell_type": "markdown",
   "metadata": {},
   "source": [
    "#### Load data into table `music_app_history_session_item`"
   ]
  },
  {
   "cell_type": "code",
   "execution_count": 41,
   "metadata": {
    "scrolled": false
   },
   "outputs": [],
   "source": [
    "file = 'event_datafile_new.csv'\n",
    "\n",
    "# Open the csv file in read mode. \n",
    "with open(file, encoding = 'utf8') as f:\n",
    "    csvreader = csv.reader(f)\n",
    "    next(csvreader) # skip header\n",
    "    \n",
    "    # Loop thru each line and insert the data into Cassandra table music_app_history_session_item.\n",
    "    for line in csvreader:\n",
    "        ## Populate the INSERT statements into the `query` variable to insert data for session_id, item_in_session, artist, song, length\n",
    "        query = \"INSERT INTO music_app_history_session_item(session_id, item_in_session, artist, song, length)\"\n",
    "        query = query + \"values(%s, %s, %s, %s, %s)\"\n",
    "        \n",
    "        ## Execute the INSERT statement by passing the respective column values.\n",
    "        session.execute(query, (int(line[8]), int(line[3]), line[0], line[9], float(line[5])))"
   ]
  },
  {
   "cell_type": "markdown",
   "metadata": {},
   "source": [
    "#### Do a SELECT on `music_app_history_session_item` table based on following conditions to verify the data.\n",
    " * Columns to be selected: artist, song title and song's length \n",
    " * WHERE Condition : session_id = 338, item_in_session = 4"
   ]
  },
  {
   "cell_type": "code",
   "execution_count": 42,
   "metadata": {
    "scrolled": true
   },
   "outputs": [
    {
     "name": "stdout",
     "output_type": "stream",
     "text": [
      "Faithless Music Matters (Mark Knight Dub) 495.30731201171875\n"
     ]
    }
   ],
   "source": [
    "# Execute the SELECT statement\n",
    "query = \"select artist, song, length from music_app_history_session_item where session_id = 338 and item_in_session = 4\"\n",
    "try:\n",
    "    rows = session.execute(query)\n",
    "except Exception as e:\n",
    "    print(e)\n",
    "\n",
    "# Loop thru the SELECT query results and display the output in console\n",
    "for row in rows:\n",
    "    print (row.artist, row.song, row.length)"
   ]
  },
  {
   "cell_type": "markdown",
   "metadata": {},
   "source": [
    "## Requirement #2:\n",
    "\n",
    "#### Model and Create the following table to get the artist, song (sorted by itemInSession) and user (first and last name) for a given user_id and session_id (For Eg: user_id = 10, session_id = 182) \n",
    "\n",
    "To optimize the performance of above query, the below Cassandra table is created:\n",
    "\n",
    "Table Name : `music_app_history_user_session`\n",
    "\n",
    "Columns    : `user_id, session_id, item_in_session, artist, song, first_name, last_name`"
   ]
  },
  {
   "cell_type": "markdown",
   "metadata": {},
   "source": [
    "#### Drop table `music_app_history_user_session`"
   ]
  },
  {
   "cell_type": "code",
   "execution_count": 43,
   "metadata": {},
   "outputs": [],
   "source": [
    "query = \"DROP TABLE IF EXISTS music_app_history_user_session\"\n",
    "try:\n",
    "    session.execute(query)\n",
    "except Exception as e:\n",
    "    print(e)"
   ]
  },
  {
   "cell_type": "markdown",
   "metadata": {},
   "source": [
    "#### Create table `music_app_history_user_session` based on the Requirement #2 mentioned above."
   ]
  },
  {
   "cell_type": "code",
   "execution_count": 44,
   "metadata": {},
   "outputs": [],
   "source": [
    "## Populate CREATE TABLE statment into query variable and execute it.\n",
    "query = \"CREATE TABLE IF NOT EXISTS music_app_history_user_session\"\n",
    "query = query + \"(user_id int, session_id int, item_in_session int, artist text, song text, first_name text, last_name text, primary key((user_id, session_id), item_in_session))\"  \n",
    "try:\n",
    "    session.execute(query)\n",
    "except Exception as e:\n",
    "    print(e)                    "
   ]
  },
  {
   "cell_type": "markdown",
   "metadata": {},
   "source": [
    "#### Load data into table `music_app_history_user_session`"
   ]
  },
  {
   "cell_type": "code",
   "execution_count": 45,
   "metadata": {},
   "outputs": [],
   "source": [
    "file = 'event_datafile_new.csv'\n",
    "result=[]\n",
    "with open(file, encoding = 'utf8') as f:\n",
    "    csvreader = csv.reader(f)\n",
    "    next(csvreader) # skip header\n",
    "    \n",
    "    for line in csvreader:\n",
    "        ## Populate the INSERT statements into the `query` variable to insert data for user_id, session_id, item_in_session, artist, song, first_name, last_name\n",
    "        query = \"INSERT INTO music_app_history_user_session(user_id, session_id, item_in_session, artist, song, first_name, last_name)\"\n",
    "        query = query + \"values(%s, %s, %s, %s, %s, %s, %s)\"\n",
    "        ## Execute the INSERT statement by passing the respective column values.\n",
    "        session.execute(query, (int(line[10]), int(line[8]), int(line[3]), line[0], line[9], line[1], line[4]))"
   ]
  },
  {
   "cell_type": "markdown",
   "metadata": {},
   "source": [
    "#### Do a SELECT on `music_app_history_user_session` table based on following conditions to verify the data.\n",
    " * Columns to be selected: name of artist, song (sorted by itemInSession) and user (first and last name) \n",
    " * WHERE Condition : user_id = 10, session_id = 182"
   ]
  },
  {
   "cell_type": "code",
   "execution_count": 46,
   "metadata": {},
   "outputs": [
    {
     "name": "stdout",
     "output_type": "stream",
     "text": [
      "Down To The Bone Keep On Keepin' On Sylvie Cruz\n",
      "Three Drives Greece 2000 Sylvie Cruz\n",
      "Sebastien Tellier Kilometer Sylvie Cruz\n",
      "Lonnie Gordon Catch You Baby (Steve Pitron & Max Sanna Radio Edit) Sylvie Cruz\n"
     ]
    }
   ],
   "source": [
    "# Execute the SELECT statement\n",
    "query = \"select artist, song, first_name, last_name from music_app_history_user_session where user_id = 10 and session_id = 182\"\n",
    "try:\n",
    "    rows = session.execute(query)\n",
    "except Exception as e:\n",
    "    print(e)\n",
    "\n",
    "# Loop thru the SELECT query results and display the output in console\n",
    "for row in rows:\n",
    "    print (row.artist, row.song, row.first_name, row.last_name)"
   ]
  },
  {
   "cell_type": "markdown",
   "metadata": {},
   "source": [
    "## Requirement #3:\n",
    "\n",
    "#### Model and Create the following table to get the user name (first and last) from the music app history who listened to a given song (For Eg: 'All Hands Against His Own') \n",
    "\n",
    "To optimize the performance of above query, the below Cassandra table is created:\n",
    "\n",
    "Table Name : `music_app_history_song`\n",
    "\n",
    "Columns    : `song, user_id, first_name, last_name`"
   ]
  },
  {
   "cell_type": "markdown",
   "metadata": {},
   "source": [
    "#### Drop table `music_app_history_song`"
   ]
  },
  {
   "cell_type": "code",
   "execution_count": 47,
   "metadata": {},
   "outputs": [],
   "source": [
    "## Populate DROP TABLE statment into query variable and execute it.\n",
    "query = \"DROP TABLE IF EXISTS music_app_history_song\"\n",
    "try:\n",
    "    session.execute(query)\n",
    "except Exception as e:\n",
    "    print(e)"
   ]
  },
  {
   "cell_type": "markdown",
   "metadata": {},
   "source": [
    "#### Create the table `music_app_history_song` based on the Requirement #3 mentioned above."
   ]
  },
  {
   "cell_type": "code",
   "execution_count": 48,
   "metadata": {},
   "outputs": [],
   "source": [
    "## Populate CREATE TABLE statment into query variable and execute it.\n",
    "query = \"CREATE TABLE IF NOT EXISTS music_app_history_song\"\n",
    "query = query + \"(song text, user_id int, first_name text, last_name text, primary key(song, user_id))\"  \n",
    "try:\n",
    "    session.execute(query)\n",
    "except Exception as e:\n",
    "    print(e)                    "
   ]
  },
  {
   "cell_type": "markdown",
   "metadata": {},
   "source": [
    "#### Load data into table `music_app_history_song`"
   ]
  },
  {
   "cell_type": "code",
   "execution_count": 49,
   "metadata": {},
   "outputs": [],
   "source": [
    "file = 'event_datafile_new.csv'\n",
    "with open(file, encoding = 'utf8') as f:\n",
    "    csvreader = csv.reader(f)\n",
    "    next(csvreader) # skip header\n",
    "    \n",
    "    for line in csvreader:\n",
    "        ## Populate the INSERT statements into the `query` variable to insert data for song, user_id, first_name and last_name\n",
    "        query = \"INSERT INTO music_app_history_song(song, user_id, first_name, last_name)\"\n",
    "        query = query + \"values(%s, %s, %s, %s)\"\n",
    "        ## Execute the INSERT statement by passing the respective column values.\n",
    "        session.execute(query, (line[9], int(line[10]), line[1], line[4]))"
   ]
  },
  {
   "cell_type": "markdown",
   "metadata": {},
   "source": [
    "#### Do a SELECT on `music_app_history_song` table based on following conditions to verify the data.\n",
    " * Columns to be selected: user name (first and last) \n",
    " * WHERE Condition : song 'All Hands Against His Own'"
   ]
  },
  {
   "cell_type": "code",
   "execution_count": 50,
   "metadata": {},
   "outputs": [
    {
     "name": "stdout",
     "output_type": "stream",
     "text": [
      "Jacqueline | Lynch\n",
      "Tegan | Levine\n",
      "Sara | Johnson\n"
     ]
    }
   ],
   "source": [
    "# Execute the SELECT statement\n",
    "query = \"select first_name, last_name from music_app_history_song where song='All Hands Against His Own'\"\n",
    "try:\n",
    "    rows = session.execute(query)\n",
    "except Exception as e:\n",
    "    print(e)\n",
    "\n",
    "# Loop thru the SELECT query results and display the output in console\n",
    "for row in rows:\n",
    "    print (row.first_name, '|', row.last_name)"
   ]
  },
  {
   "cell_type": "markdown",
   "metadata": {},
   "source": [
    "### Drop the tables before closing out the sessions"
   ]
  },
  {
   "cell_type": "code",
   "execution_count": 51,
   "metadata": {},
   "outputs": [
    {
     "name": "stdout",
     "output_type": "stream",
     "text": [
      "Dropped table music_app_history_session_item\n",
      "Dropped table music_app_history_user_session\n",
      "Dropped table music_app_history_song\n"
     ]
    }
   ],
   "source": [
    "for table in ['music_app_history_session_item','music_app_history_user_session','music_app_history_song']:\n",
    "    query = \"DROP TABLE IF EXISTS \" + table\n",
    "    try:\n",
    "        session.execute(query)\n",
    "        print(\"Dropped table \" + table)\n",
    "    except Exception as e:\n",
    "        print(e)"
   ]
  },
  {
   "cell_type": "markdown",
   "metadata": {},
   "source": [
    "### Close the session and cluster connection¶"
   ]
  },
  {
   "cell_type": "code",
   "execution_count": 52,
   "metadata": {},
   "outputs": [],
   "source": [
    "session.shutdown()\n",
    "cluster.shutdown()"
   ]
  }
 ],
 "metadata": {
  "kernelspec": {
   "display_name": "Python 3",
   "language": "python",
   "name": "python3"
  },
  "language_info": {
   "codemirror_mode": {
    "name": "ipython",
    "version": 3
   },
   "file_extension": ".py",
   "mimetype": "text/x-python",
   "name": "python",
   "nbconvert_exporter": "python",
   "pygments_lexer": "ipython3",
   "version": "3.6.3"
  }
 },
 "nbformat": 4,
 "nbformat_minor": 2
}
